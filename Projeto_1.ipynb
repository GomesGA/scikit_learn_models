{
  "nbformat": 4,
  "nbformat_minor": 0,
  "metadata": {
    "colab": {
      "provenance": [],
      "authorship_tag": "ABX9TyMNfj0nkO0DkX/BZJk/8Uwu",
      "include_colab_link": true
    },
    "kernelspec": {
      "name": "python3",
      "display_name": "Python 3"
    },
    "language_info": {
      "name": "python"
    }
  },
  "cells": [
    {
      "cell_type": "markdown",
      "metadata": {
        "id": "view-in-github",
        "colab_type": "text"
      },
      "source": [
        "<a href=\"https://colab.research.google.com/github/GomesGA/scikit_learn_models/blob/main/Projeto_1.ipynb\" target=\"_parent\"><img src=\"https://colab.research.google.com/assets/colab-badge.svg\" alt=\"Open In Colab\"/></a>"
      ]
    },
    {
      "cell_type": "code",
      "execution_count": null,
      "metadata": {
        "colab": {
          "base_uri": "https://localhost:8080/"
        },
        "id": "yRIPUW2-k1wu",
        "outputId": "46dba0ff-6547-4ef8-a1be-4f9d6598e4ee"
      },
      "outputs": [
        {
          "output_type": "stream",
          "name": "stdout",
          "text": [
            "['male']\n",
            "['female']\n"
          ]
        }
      ],
      "source": [
        "from sklearn import tree\n",
        "\n",
        "#[height,weight,shoe size]\n",
        "X = [[181,80,44],[177,70,43],[160,60,38],[154,54,37],[166,65,40],[190,90,47],[175,64,39],[177,70,40],[159,55,37],[171,75,42],[181,85,43]]\n",
        "Y = [ \"male\", \"female\", \"female\", \"female\",\"male\", \"male\", \"male\", \"female\", \"male\", \"female\",\"male\"]\n",
        "\n",
        "clf = tree.DecisionTreeClassifier()\n",
        "clf = clf.fit(X,Y)\n",
        "print(clf.predict([[190,70,43]]))\n",
        "print(clf.predict([[156,72,48]]))"
      ]
    },
    {
      "cell_type": "markdown",
      "source": [
        "Challenge\n",
        "\n",
        "1. Use any 3 Scikit-Learn Models on this dataset\n",
        "2. Compare results\n",
        "3. Print the best one"
      ],
      "metadata": {
        "id": "c2UfM7uJtDye"
      }
    },
    {
      "cell_type": "code",
      "metadata": {
        "colab": {
          "base_uri": "https://localhost:8080/"
        },
        "id": "2e4cd2a0",
        "outputId": "d4684276-b653-46f9-aeb3-44da07179e6d"
      },
      "source": [
        "import numpy as np\n",
        "\n",
        "X = [[181,80,44],[177,70,43],[160,60,38],[154,54,37],[166,65,40],[190,90,47],[175,64,39],[177,70,40],[159,55,37],[171,75,42],[181,85,43]]\n",
        "Y = [ \"male\", \"female\", \"female\", \"female\",\"male\", \"male\", \"male\", \"female\", \"male\", \"female\",\"male\"]\n",
        "\n",
        "# Converter para arrays numpy para facilitar a manipulação\n",
        "X_np = np.array(X)\n",
        "Y_np = np.array(Y)\n",
        "\n",
        "# Criar dados sintéticos adicionais\n",
        "num_additional_samples = 90\n",
        "\n",
        "# Estimativa de médias e desvios padrão dos dados originais para cada classe (male/female)\n",
        "# Índices para 'male' e 'female' nos dados originais\n",
        "male_indices = [i for i, label in enumerate(Y) if label == \"male\"]\n",
        "female_indices = [i for i, label in enumerate(Y) if label == \"female\"]\n",
        "\n",
        "X_male = X_np[male_indices]\n",
        "X_female = X_np[female_indices]\n",
        "\n",
        "# Calcular média e desvio padrão para cada feature em cada classe\n",
        "mean_male = np.mean(X_male, axis=0)\n",
        "std_male = np.std(X_male, axis=0)\n",
        "\n",
        "mean_female = np.mean(X_female, axis=0)\n",
        "std_female = np.std(X_female, axis=0)\n",
        "\n",
        "# Gerar dados sintéticos baseados nas estatísticas estimadas\n",
        "# Vamos gerar metade 'male' e metade 'female'\n",
        "num_male_samples = num_additional_samples // 2\n",
        "num_female_samples = num_additional_samples - num_male_samples\n",
        "\n",
        "synthetic_X_male = np.random.normal(mean_male, std_male, size=(num_male_samples, X_np.shape[1]))\n",
        "synthetic_Y_male = np.array([\"male\"] * num_male_samples)\n",
        "\n",
        "synthetic_X_female = np.random.normal(mean_female, std_female, size=(num_female_samples, X_np.shape[1]))\n",
        "synthetic_Y_female = np.array([\"female\"] * num_female_samples)\n",
        "\n",
        "# Combinar os dados originais e sintéticos\n",
        "X_larger = np.vstack((X_np, synthetic_X_male, synthetic_X_female))\n",
        "Y_larger = np.concatenate((Y_np, synthetic_Y_male, synthetic_Y_female))\n",
        "\n",
        "shuffle_indices = np.random.permutation(len(X_larger))\n",
        "X_larger = X_larger[shuffle_indices]\n",
        "Y_larger = Y_larger[shuffle_indices]\n",
        "\n",
        "print(f\"Tamanho da base de dados original: {len(X)}\")\n",
        "print(f\"Tamanho da nova base de dados sintética: {len(X_larger)}\")\n",
        "print(\"\\nPrimeiras 5 amostras da nova base de dados (X_larger):\")\n",
        "print(X_larger[:5])\n",
        "print(\"\\nPrimeiras 5 labels da nova base de dados (Y_larger):\")\n",
        "print(Y_larger[:5])"
      ],
      "execution_count": null,
      "outputs": [
        {
          "output_type": "stream",
          "name": "stdout",
          "text": [
            "Tamanho da base de dados original: 11\n",
            "Tamanho da nova base de dados sintética: 101\n",
            "\n",
            "Primeiras 5 amostras da nova base de dados (X_larger):\n",
            "[[183.02374533  75.80415144  43.33555066]\n",
            " [172.92575467  71.83398191  39.82236555]\n",
            " [177.          70.          40.        ]\n",
            " [162.43520793  68.70804444  38.60045973]\n",
            " [171.56160461  70.93330593  38.56773085]]\n",
            "\n",
            "Primeiras 5 labels da nova base de dados (Y_larger):\n",
            "['female' 'male' 'female' 'female' 'female']\n"
          ]
        }
      ]
    },
    {
      "cell_type": "code",
      "metadata": {
        "colab": {
          "base_uri": "https://localhost:8080/"
        },
        "id": "50c103b1",
        "outputId": "6e6b84e0-3a83-4938-c92d-5d179fbf6524"
      },
      "source": [
        "from sklearn.model_selection import train_test_split\n",
        "from sklearn.metrics import accuracy_score\n",
        "from sklearn import tree\n",
        "from sklearn import neighbors\n",
        "from sklearn.discriminant_analysis import LinearDiscriminantAnalysis\n",
        "from sklearn.discriminant_analysis import QuadraticDiscriminantAnalysis\n",
        "import numpy as np\n",
        "\n",
        "X = X_larger\n",
        "Y = Y_larger\n",
        "X_train, X_test, y_train, y_test = train_test_split(X, Y, test_size=0.3, random_state=42)\n",
        "\n",
        "# Inicializar os modelos\n",
        "dt_clf = tree.DecisionTreeClassifier()\n",
        "nc_clf = neighbors.NearestCentroid()\n",
        "lda_clf = LinearDiscriminantAnalysis()\n",
        "qda_clf = QuadraticDiscriminantAnalysis()\n",
        "\n",
        "# Treinar os modelos com os dados de treino da base maior\n",
        "dt_clf.fit(X_train, y_train)\n",
        "nc_clf.fit(X_train, y_train)\n",
        "lda_clf.fit(X_train, y_train)\n",
        "qda_clf.fit(X_train, y_train)\n",
        "\n",
        "# Fazer previsões nos dados de teste\n",
        "dt_pred = dt_clf.predict(X_test)\n",
        "nc_pred = nc_clf.predict(X_test)\n",
        "lda_pred = lda_clf.predict(X_test)\n",
        "qda_pred = qda_clf.predict(X_test)\n",
        "\n",
        "# Calcular a acurácia de cada modelo\n",
        "dt_accuracy = accuracy_score(y_test, dt_pred)\n",
        "nc_accuracy = accuracy_score(y_test, nc_pred)\n",
        "lda_accuracy = accuracy_score(y_test, lda_pred)\n",
        "qda_accuracy = accuracy_score(y_test, qda_pred)\n",
        "\n",
        "print(f\"Acurácia da Árvore de Decisão: {dt_accuracy:.2f}\")\n",
        "print(f\"Acurácia do Nearest Centroid: {nc_accuracy:.2f}\")\n",
        "print(f\"Acurácia do Linear Discriminant Analysis: {lda_accuracy:.2f}\")\n",
        "print(f\"Acurácia do Quadratic Discriminant Analysis: {qda_accuracy:.2f}\")\n",
        "\n",
        "# Determinar o melhor modelo (com base na acurácia neste conjunto de teste)\n",
        "accuracies = {\n",
        "    \"Decision Tree\": dt_accuracy,\n",
        "    \"Nearest Centroid\": nc_accuracy,\n",
        "    \"Linear Discriminant Analysis\": lda_accuracy,\n",
        "    \"Quadratic Discriminant Analysis\": qda_accuracy\n",
        "}\n",
        "\n",
        "best_model = max(accuracies, key=accuracies.get)\n",
        "print(f\"\\nO melhor modelo (com base na acurácia no conjunto de teste) é: {best_model}\")"
      ],
      "execution_count": null,
      "outputs": [
        {
          "output_type": "stream",
          "name": "stdout",
          "text": [
            "Acurácia da Árvore de Decisão: 0.58\n",
            "Acurácia do Nearest Centroid: 0.81\n",
            "Acurácia do Linear Discriminant Analysis: 0.77\n",
            "Acurácia do Quadratic Discriminant Analysis: 0.77\n",
            "\n",
            "O melhor modelo (com base na acurácia no conjunto de teste) é: Nearest Centroid\n"
          ]
        }
      ]
    }
  ]
}